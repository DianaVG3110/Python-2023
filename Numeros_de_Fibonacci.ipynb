{
  "nbformat": 4,
  "nbformat_minor": 0,
  "metadata": {
    "colab": {
      "provenance": [],
      "toc_visible": true
    },
    "kernelspec": {
      "name": "python3",
      "display_name": "Python 3"
    },
    "language_info": {
      "name": "python"
    }
  },
  "cells": [
    {
      "cell_type": "markdown",
      "source": [
        "Números de Fibonacci menores a 100"
      ],
      "metadata": {
        "id": "7uNPwsFEY2_b"
      }
    },
    {
      "cell_type": "code",
      "execution_count": 4,
      "metadata": {
        "id": "a8hRyToQV0yN",
        "colab": {
          "base_uri": "https://localhost:8080/"
        },
        "outputId": "d75f5d5f-291d-4709-c1b9-6f12c7892102"
      },
      "outputs": [
        {
          "output_type": "stream",
          "name": "stdout",
          "text": [
            "0,\n",
            "1,\n",
            "1,\n",
            "2,\n",
            "3,\n",
            "5,\n",
            "8,\n",
            "13,\n",
            "21,\n",
            "34,\n",
            "55,\n",
            "89,\n"
          ]
        }
      ],
      "source": [
        "a, b = 0, 1\n",
        "\n",
        "while a < 100:\n",
        "    print(a, end=\",\\n\")\n",
        "    a, b = b, a+b"
      ]
    }
  ]
}