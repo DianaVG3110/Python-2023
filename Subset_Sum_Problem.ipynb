{
  "nbformat": 4,
  "nbformat_minor": 0,
  "metadata": {
    "colab": {
      "provenance": [],
      "authorship_tag": "ABX9TyMl4WK/FaT+8X6hMU2/Yqzr",
      "include_colab_link": true
    },
    "kernelspec": {
      "name": "python3",
      "display_name": "Python 3"
    },
    "language_info": {
      "name": "python"
    }
  },
  "cells": [
    {
      "cell_type": "markdown",
      "metadata": {
        "id": "view-in-github",
        "colab_type": "text"
      },
      "source": [
        "<a href=\"https://colab.research.google.com/github/DianaVG3110/Python-2023/blob/main/Subset_Sum_Problem.ipynb\" target=\"_parent\"><img src=\"https://colab.research.google.com/assets/colab-badge.svg\" alt=\"Open In Colab\"/></a>"
      ]
    },
    {
      "cell_type": "markdown",
      "source": [
        "**Ejercicios 30-Agosto-2023**\n",
        "\n"
      ],
      "metadata": {
        "id": "0rNQkPGAN63o"
      }
    },
    {
      "cell_type": "code",
      "source": [
        "import random\n",
        "from itertools import combinations"
      ],
      "metadata": {
        "id": "1q-aVq4qQfib"
      },
      "execution_count": null,
      "outputs": []
    },
    {
      "cell_type": "code",
      "execution_count": null,
      "metadata": {
        "colab": {
          "base_uri": "https://localhost:8080/"
        },
        "id": "XF1nNlEvFIqg",
        "outputId": "40ae9f1d-4016-4f2f-af3a-6d839f50343d"
      },
      "outputs": [
        {
          "output_type": "stream",
          "name": "stdout",
          "text": [
            "{1, 5, -5, -3, -2}\n",
            "[{-5, 5}, {-3, 5, -2}]\n"
          ]
        }
      ],
      "source": [
        "def crea_conjunto(cantidad, rango):\n",
        "    \"\"\"Crea un conjunto de numeros aleatorios que esten entre los numeros\n",
        "    enteros -rango y rango, con la cantidad de elementos que se solicite\"\"\"\n",
        "    return {random.randint(-rango, rango) for i in range(cantidad+1)}\n",
        "\n",
        "def subconjuntos_cero(conjunto_entero):\n",
        "    \"\"\"Regresa todos los subconjuntos del conjunto dado, los cuales,\n",
        "    al sumar cada uno de sus elementos, nos de cero\"\"\"\n",
        "    subconjuntos=[]\n",
        "    for i in range(1, len(conjunto_entero)+1):\n",
        "        for sub in combinations(conjunto_entero, i):\n",
        "            if sum(list(sub)) == 0:\n",
        "                subconjuntos.append(set(sub))\n",
        "    return subconjuntos\n",
        "\n",
        "\n",
        "conjunto_entero = crea_conjunto(5,5)\n",
        "\n",
        "print(conjunto_entero)\n",
        "print(subconjuntos_cero(conjunto_entero))"
      ]
    },
    {
      "cell_type": "markdown",
      "source": [
        "*Ejercicios opcionales*"
      ],
      "metadata": {
        "id": "v5jxTOCuUP7Q"
      }
    },
    {
      "cell_type": "code",
      "source": [
        "def subconjuntos_iguales(conjunto_entero):\n",
        "    for i in range(1, len(conjunto_entero)+1):\n",
        "        for sub1 in combinations(conjunto_entero, i):\n",
        "            for j in range(i+1, len(conjunto_entero)+1):\n",
        "                for sub2 in combinations(conjunto_entero, j):\n",
        "                    if sum(list(sub1)) == sum(list(sub2)):\n",
        "                        return [set(sub1), set(sub2)]\n",
        "    return False\n",
        "\n",
        "print(conjunto_entero)\n",
        "subconjuntos_iguales(conjunto_entero)"
      ],
      "metadata": {
        "colab": {
          "base_uri": "https://localhost:8080/"
        },
        "id": "Qr2R_PtvIjW8",
        "outputId": "5c9a8678-4ed6-42a7-8398-ca934ea0a2df"
      },
      "execution_count": null,
      "outputs": [
        {
          "output_type": "stream",
          "name": "stdout",
          "text": [
            "{1, 5, -5, -3, -2}\n"
          ]
        },
        {
          "output_type": "execute_result",
          "data": {
            "text/plain": [
              "[{1}, {-5, 1, 5}]"
            ]
          },
          "metadata": {},
          "execution_count": 28
        }
      ]
    }
  ]
}