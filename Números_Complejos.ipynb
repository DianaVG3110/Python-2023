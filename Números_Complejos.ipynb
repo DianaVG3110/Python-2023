{
  "nbformat": 4,
  "nbformat_minor": 0,
  "metadata": {
    "colab": {
      "provenance": [],
      "authorship_tag": "ABX9TyPnUMvjhJs3Qj0qdG0cUCw8",
      "include_colab_link": true
    },
    "kernelspec": {
      "name": "python3",
      "display_name": "Python 3"
    },
    "language_info": {
      "name": "python"
    }
  },
  "cells": [
    {
      "cell_type": "markdown",
      "metadata": {
        "id": "view-in-github",
        "colab_type": "text"
      },
      "source": [
        "<a href=\"https://colab.research.google.com/github/DianaVG3110/Python-2023/blob/main/N%C3%BAmeros_Complejos.ipynb\" target=\"_parent\"><img src=\"https://colab.research.google.com/assets/colab-badge.svg\" alt=\"Open In Colab\"/></a>"
      ]
    },
    {
      "cell_type": "markdown",
      "source": [
        "**Números complejos** \\\\\n",
        "En el siguiente programa se crea una clase para los números complejos, asignándoles su parte real y su parte positiva, y definiendo su representación. Además se definen las operaciones de resta y multiplicación para ellos, usando los operadores \"-\" y \"*\"."
      ],
      "metadata": {
        "id": "SwXYd6zFC8SK"
      }
    },
    {
      "cell_type": "code",
      "source": [
        "# Se crea a la clase de numeros complejos y se definen las operaciones de resta y producto\n",
        "class NúmeroComplejo:\n",
        "    def __init__(self, parte_real, parte_imaginaria):\n",
        "        self.r = parte_real\n",
        "        self.i = parte_imaginaria\n",
        "\n",
        "    def __repr__(self):\n",
        "        return f\"NúmeroComplejo({self.r}, {self.i})\"\n",
        "\n",
        "    def __sub__(self, other):\n",
        "        return NúmeroComplejo(self.r - other.r, self.i - other.i)\n",
        "\n",
        "    def __mul__(self, other):\n",
        "        return NúmeroComplejo((self.r * other.r) - (self.i * other.i), (self.r * other.i) + (self.i * other.r))"
      ],
      "metadata": {
        "id": "GwLGH-lY9s4D"
      },
      "execution_count": null,
      "outputs": []
    },
    {
      "cell_type": "code",
      "source": [
        "# Se da un ejemplo para mostrar la función del programa\n",
        "z = NúmeroComplejo(2, -5)\n",
        "w = NúmeroComplejo(3, 4)\n",
        "z-w, z*w"
      ],
      "metadata": {
        "colab": {
          "base_uri": "https://localhost:8080/"
        },
        "id": "8tTQjPvoAJHS",
        "outputId": "69a7ca9b-7e4f-479d-80f1-fb84ac84afcf"
      },
      "execution_count": null,
      "outputs": [
        {
          "output_type": "execute_result",
          "data": {
            "text/plain": [
              "(NúmeroComplejo(-1, -9), NúmeroComplejo(26, -7))"
            ]
          },
          "metadata": {},
          "execution_count": 30
        }
      ]
    }
  ]
}