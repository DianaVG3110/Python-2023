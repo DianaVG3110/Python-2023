{
  "nbformat": 4,
  "nbformat_minor": 0,
  "metadata": {
    "colab": {
      "provenance": [],
      "authorship_tag": "ABX9TyMK9Cx5E+E+vPUUP0Qb+kLY",
      "include_colab_link": true
    },
    "kernelspec": {
      "name": "python3",
      "display_name": "Python 3"
    },
    "language_info": {
      "name": "python"
    }
  },
  "cells": [
    {
      "cell_type": "markdown",
      "metadata": {
        "id": "view-in-github",
        "colab_type": "text"
      },
      "source": [
        "<a href=\"https://colab.research.google.com/github/DianaVG3110/Python-2023/blob/main/Potencias_perfectas_en_n%C3%BAmeros_de_Fibonacci.ipynb\" target=\"_parent\"><img src=\"https://colab.research.google.com/assets/colab-badge.svg\" alt=\"Open In Colab\"/></a>"
      ]
    },
    {
      "cell_type": "markdown",
      "source": [
        "**POTENCIAS PERFECTAS EN LOS NÚMEROS DE FIBONACCI**"
      ],
      "metadata": {
        "id": "BYjDiI8ZJWNY"
      }
    },
    {
      "cell_type": "markdown",
      "source": [
        "Existen infinitos números de Fibonacci, y dentro de tantos números resulta poco creíble encontrar tan pocos de ellos que cumplen con la propiedad de ser cuadrados perfectos (sólo lo son el 0, 1 y 144). Más aún, son menos los números de Fibonacci que son potencias perfectas, cuando a potencia es mayor que 2. Este programa muestra que, por más números de Fibonacci que tomemos, los números que son potencias perfectas son siempre los mismos, pero ¿Podemos afirmar que, para cada potencia y de todos los números de Fibonacci, dichos números son los únicos que cumplen con ser potencias perfectas? La respuesta es sí, y aquí está la demostración: https://annals.math.princeton.edu/wp-content/uploads/annals-v163-n3-p05.pdf"
      ],
      "metadata": {
        "id": "J_hGl1KmJjE4"
      }
    },
    {
      "cell_type": "code",
      "execution_count": 6,
      "metadata": {
        "id": "r9KeO3aVBMLO"
      },
      "outputs": [],
      "source": [
        "from sympy import sqrt\n",
        "\n",
        "def es_potencia(n, pot):\n",
        "    return int((n)**(1/pot)) ** pot == n\n",
        "\n",
        "def potencias_fibonacci(n, pot = 2):\n",
        "    fibs = []\n",
        "    a, b = 0, 1\n",
        "    while a < n:\n",
        "        if es_potencia(a, pot):\n",
        "            fibs.append(a)\n",
        "        a, b = b, a+b\n",
        "    return fibs"
      ]
    },
    {
      "cell_type": "markdown",
      "source": [
        "¿Qué números de Fibonacci menores que 10²⁰ son cuadrados perfectos?"
      ],
      "metadata": {
        "id": "Me23uimVIcsQ"
      }
    },
    {
      "cell_type": "code",
      "source": [
        "\n",
        "potencias_fibonacci(10**20, 2)"
      ],
      "metadata": {
        "colab": {
          "base_uri": "https://localhost:8080/"
        },
        "id": "WE_1WrrcIp1p",
        "outputId": "5092b2a3-5be5-4256-9c54-dca5d20fedb9"
      },
      "execution_count": 7,
      "outputs": [
        {
          "output_type": "execute_result",
          "data": {
            "text/plain": [
              "[0, 1, 1, 144]"
            ]
          },
          "metadata": {},
          "execution_count": 7
        }
      ]
    },
    {
      "cell_type": "markdown",
      "source": [
        "¿Qué números de Fibonacci menores que 10²⁰ son cubos perfectos?"
      ],
      "metadata": {
        "id": "5s0fYt8EIssg"
      }
    },
    {
      "cell_type": "code",
      "source": [
        "potencias_fibonacci(10**20, 3)"
      ],
      "metadata": {
        "colab": {
          "base_uri": "https://localhost:8080/"
        },
        "id": "YXaMzbXKI12B",
        "outputId": "28c03cde-279d-40b9-8701-4b7ed7e762d3"
      },
      "execution_count": 9,
      "outputs": [
        {
          "output_type": "execute_result",
          "data": {
            "text/plain": [
              "[0, 1, 1, 8]"
            ]
          },
          "metadata": {},
          "execution_count": 9
        }
      ]
    },
    {
      "cell_type": "markdown",
      "source": [
        "¿Qué números de Fibonacci menores que 10²⁰ son cuartas potencias perfectas?"
      ],
      "metadata": {
        "id": "p30RYSFDJDCQ"
      }
    },
    {
      "cell_type": "code",
      "source": [
        "potencias_fibonacci(10**20, 4)"
      ],
      "metadata": {
        "colab": {
          "base_uri": "https://localhost:8080/"
        },
        "id": "XfRdEUi0JOr1",
        "outputId": "c777a7df-fbb5-404d-96a8-5a164d1b74d9"
      },
      "execution_count": 10,
      "outputs": [
        {
          "output_type": "execute_result",
          "data": {
            "text/plain": [
              "[0, 1, 1]"
            ]
          },
          "metadata": {},
          "execution_count": 10
        }
      ]
    }
  ]
}