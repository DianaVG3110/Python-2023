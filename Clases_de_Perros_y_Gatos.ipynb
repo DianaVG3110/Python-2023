{
  "nbformat": 4,
  "nbformat_minor": 0,
  "metadata": {
    "colab": {
      "provenance": [],
      "authorship_tag": "ABX9TyP32iPQAUuaGO+HyKHFsIW2",
      "include_colab_link": true
    },
    "kernelspec": {
      "name": "python3",
      "display_name": "Python 3"
    },
    "language_info": {
      "name": "python"
    }
  },
  "cells": [
    {
      "cell_type": "markdown",
      "metadata": {
        "id": "view-in-github",
        "colab_type": "text"
      },
      "source": [
        "<a href=\"https://colab.research.google.com/github/DianaVG3110/Python-2023/blob/main/Clases_de_Perros_y_Gatos.ipynb\" target=\"_parent\"><img src=\"https://colab.research.google.com/assets/colab-badge.svg\" alt=\"Open In Colab\"/></a>"
      ]
    },
    {
      "cell_type": "code",
      "execution_count": null,
      "metadata": {
        "id": "CKBjt5XXY6I-"
      },
      "outputs": [],
      "source": [
        "class Perro:\n",
        "    def __init__(self, nombre, color):\n",
        "        self.nombre = nombre\n",
        "        self.color = color\n",
        "\n",
        "    def __repr__(self):\n",
        "        return f\"Este perro se llama {self.nombre}, es de color {self.color} y hace {self.sonido()}\"\n",
        "\n",
        "    def sonido(self, ladrido = \"guau\"):\n",
        "        return ladrido"
      ]
    },
    {
      "cell_type": "code",
      "source": [
        "a = Perro(\"Firulais\", \"amarillo\")"
      ],
      "metadata": {
        "id": "4G-yvCa1bmbX"
      },
      "execution_count": null,
      "outputs": []
    },
    {
      "cell_type": "code",
      "source": [
        "a.sonido()"
      ],
      "metadata": {
        "colab": {
          "base_uri": "https://localhost:8080/",
          "height": 35
        },
        "id": "lcXa_XTbb4c6",
        "outputId": "84b5b783-47ac-46e5-8698-6ccb0a9437ae"
      },
      "execution_count": null,
      "outputs": [
        {
          "output_type": "execute_result",
          "data": {
            "text/plain": [
              "'guau'"
            ],
            "application/vnd.google.colaboratory.intrinsic+json": {
              "type": "string"
            }
          },
          "metadata": {},
          "execution_count": 32
        }
      ]
    },
    {
      "cell_type": "code",
      "source": [
        "a"
      ],
      "metadata": {
        "colab": {
          "base_uri": "https://localhost:8080/"
        },
        "id": "qqnGpJHXcA1M",
        "outputId": "e3689cfb-f904-4701-b3a5-c4cf2bace26f"
      },
      "execution_count": null,
      "outputs": [
        {
          "output_type": "execute_result",
          "data": {
            "text/plain": [
              "Este perro se llama Firulais, es de color amarillo y hace guau"
            ]
          },
          "metadata": {},
          "execution_count": 33
        }
      ]
    },
    {
      "cell_type": "code",
      "source": [
        "class Gato:\n",
        "    def __init__(self, nombre, color):\n",
        "        self.nombre = nombre\n",
        "        self.color = color\n",
        "\n",
        "    def __repr__(self):\n",
        "        return f\"Este gato se llama {self.nombre}, es de color {self.color} y hace {self.sonido()}\"\n",
        "\n",
        "    def sonido(self, ladrido = \"miau\"):\n",
        "        return ladrido"
      ],
      "metadata": {
        "id": "KPYWmvWxcLub"
      },
      "execution_count": null,
      "outputs": []
    },
    {
      "cell_type": "code",
      "source": [
        "b = Gato(\"Pancracio\", \"negro\")"
      ],
      "metadata": {
        "id": "N3XbIVRPdQF3"
      },
      "execution_count": null,
      "outputs": []
    },
    {
      "cell_type": "code",
      "source": [
        "b.sonido()"
      ],
      "metadata": {
        "colab": {
          "base_uri": "https://localhost:8080/",
          "height": 35
        },
        "id": "3izM_sKndXdw",
        "outputId": "c31cf88a-779e-4a67-810b-50ab8ff4adef"
      },
      "execution_count": null,
      "outputs": [
        {
          "output_type": "execute_result",
          "data": {
            "text/plain": [
              "'miau'"
            ],
            "application/vnd.google.colaboratory.intrinsic+json": {
              "type": "string"
            }
          },
          "metadata": {},
          "execution_count": 40
        }
      ]
    },
    {
      "cell_type": "code",
      "source": [
        "b"
      ],
      "metadata": {
        "colab": {
          "base_uri": "https://localhost:8080/"
        },
        "id": "38A6udeEdbTC",
        "outputId": "a22a5808-b7e8-4d0c-afef-1cb47e9b8370"
      },
      "execution_count": null,
      "outputs": [
        {
          "output_type": "execute_result",
          "data": {
            "text/plain": [
              "Este gato se llama Pancracio, es de color negro y hace miau"
            ]
          },
          "metadata": {},
          "execution_count": 41
        }
      ]
    },
    {
      "cell_type": "code",
      "source": [
        "def tipo(animal):\n",
        "    if \"Perro\" in str(type(animal)):\n",
        "        return f\"Este animal es un perro\"\n",
        "    elif \"Gato\" in str(type(animal)):\n",
        "        return f\"Este animal es un gato\""
      ],
      "metadata": {
        "id": "9OQTeX7LdcKh"
      },
      "execution_count": null,
      "outputs": []
    },
    {
      "cell_type": "code",
      "source": [
        "tipo(a)"
      ],
      "metadata": {
        "colab": {
          "base_uri": "https://localhost:8080/",
          "height": 35
        },
        "id": "DA8AF150fVPw",
        "outputId": "597b6029-ce34-45af-f182-569c7f802088"
      },
      "execution_count": null,
      "outputs": [
        {
          "output_type": "execute_result",
          "data": {
            "text/plain": [
              "'Este animal es un perro'"
            ],
            "application/vnd.google.colaboratory.intrinsic+json": {
              "type": "string"
            }
          },
          "metadata": {},
          "execution_count": 54
        }
      ]
    },
    {
      "cell_type": "code",
      "source": [
        "tipo(b)"
      ],
      "metadata": {
        "colab": {
          "base_uri": "https://localhost:8080/",
          "height": 35
        },
        "id": "A298HWDbf5fv",
        "outputId": "4e5e71c0-eb87-46e5-fe24-ef6cde60a38a"
      },
      "execution_count": null,
      "outputs": [
        {
          "output_type": "execute_result",
          "data": {
            "text/plain": [
              "'Este animal es un gato'"
            ],
            "application/vnd.google.colaboratory.intrinsic+json": {
              "type": "string"
            }
          },
          "metadata": {},
          "execution_count": 55
        }
      ]
    }
  ]
}