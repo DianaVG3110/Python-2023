{
  "cells": [
    {
      "cell_type": "markdown",
      "metadata": {
        "id": "9MluBmAECP_1"
      },
      "source": [
        "Control de flujo\n",
        "================\n",
        "\n",
        "**Date:** 2023-08-16\n",
        "\n"
      ]
    },
    {
      "cell_type": "markdown",
      "metadata": {
        "id": "OREM0zyvCP_4"
      },
      "source": [
        "## Control de flujo\n",
        "\n"
      ]
    },
    {
      "cell_type": "markdown",
      "metadata": {
        "id": "uYtfeUyLCP_4"
      },
      "source": [
        "### `if`\n",
        "\n"
      ]
    },
    {
      "cell_type": "code",
      "execution_count": 5,
      "metadata": {
        "colab": {
          "base_uri": "https://localhost:8080/"
        },
        "id": "RLyNKZP5CP_5",
        "outputId": "ef972a17-40fe-4cf4-83b4-209e5edb125b"
      },
      "outputs": [
        {
          "output_type": "execute_result",
          "data": {
            "text/plain": [
              "['Ivan', 'Ana Luisa', 'Luis', 'Diana', 'Daira', 'Uriel', 'Ruth']"
            ]
          },
          "metadata": {},
          "execution_count": 5
        }
      ],
      "source": [
        "inscritos = [\"Ivan\", \"Ana Luisa\", \"Luis\", \"Diana\", \"Daira\"]\n",
        "oyentes = [\"Uriel\", \"Ruth\"]\n",
        "estudiantes = inscritos + oyentes\n",
        "estudiantes"
      ]
    },
    {
      "cell_type": "code",
      "execution_count": 9,
      "metadata": {
        "colab": {
          "base_uri": "https://localhost:8080/"
        },
        "id": "_yyhuyy-CP_6",
        "outputId": "95cf66b2-d701-479d-e58f-9e7f43c46f45"
      },
      "outputs": [
        {
          "output_type": "stream",
          "name": "stdout",
          "text": [
            "Son muchos estudiantes\n"
          ]
        }
      ],
      "source": [
        "if len(estudiantes) > 5:\n",
        "    print(\"Son muchos estudiantes\")"
      ]
    },
    {
      "cell_type": "code",
      "execution_count": 10,
      "metadata": {
        "colab": {
          "base_uri": "https://localhost:8080/"
        },
        "id": "cG8ymS6SCP_6",
        "outputId": "963dbc60-eb2e-4b77-8520-5192cfa69e21"
      },
      "outputs": [
        {
          "output_type": "stream",
          "name": "stdout",
          "text": [
            "Son muchos estudiantes\n"
          ]
        }
      ],
      "source": [
        "if len(estudiantes) > 10:\n",
        "    print(\"Son muchos estudiantes\")\n",
        "else:\n",
        "    print(\"Son pocos estudiantes\", end=\". \")\n",
        "    print(\"Ojalá entren oyentes\")"
      ]
    },
    {
      "cell_type": "code",
      "execution_count": 13,
      "metadata": {
        "colab": {
          "base_uri": "https://localhost:8080/"
        },
        "id": "2YAXQX3GCP_7",
        "outputId": "1e52c5be-8a62-47dc-86c1-792e227506fa"
      },
      "outputs": [
        {
          "output_type": "stream",
          "name": "stdout",
          "text": [
            "Son cuando mucho cinco estudiantes\n"
          ]
        }
      ],
      "source": [
        "if len(inscritos) <= 5:\n",
        "    print(\"Son cuando mucho cinco estudiantes\")\n",
        "elif len(inscritos) == 6:\n",
        "    print(\"Son seis estudiantes\")\n",
        "else:\n",
        "    print(\"Son muchos estudiantes\", end=\". \")\n",
        "    print(\"Ojalá no entren oyentes\")"
      ]
    },
    {
      "cell_type": "markdown",
      "metadata": {
        "id": "BMKQqGH4CP_7"
      },
      "source": [
        "### `for`\n",
        "\n"
      ]
    },
    {
      "cell_type": "code",
      "execution_count": 14,
      "metadata": {
        "colab": {
          "base_uri": "https://localhost:8080/"
        },
        "id": "jxyZ5Vs0CP_8",
        "outputId": "64fd84a0-6d62-4d31-f33b-c9def8451c5b"
      },
      "outputs": [
        {
          "output_type": "stream",
          "name": "stdout",
          "text": [
            "Hola Ivan ¿Cómo estás?\n",
            "Hola Ana Luisa ¿Cómo estás?\n",
            "Hola Luis ¿Cómo estás?\n",
            "Hola Diana ¿Cómo estás?\n",
            "Hola Daira ¿Cómo estás?\n",
            "Hola Uriel ¿Cómo estás?\n",
            "Hola Ruth ¿Cómo estás?\n"
          ]
        }
      ],
      "source": [
        "for estudiante in estudiantes:  # forma recomendable de recorrer una lista (pythonic)\n",
        "    print(\"Hola\", estudiante, \"¿Cómo estás?\")"
      ]
    },
    {
      "cell_type": "code",
      "execution_count": 15,
      "metadata": {
        "colab": {
          "base_uri": "https://localhost:8080/"
        },
        "id": "WYcT4LmzCP_9",
        "outputId": "af46edfd-747f-4e9f-fe8c-3bcf5b14c06d"
      },
      "outputs": [
        {
          "output_type": "stream",
          "name": "stdout",
          "text": [
            "Hola Ivan\n",
            "Hola Ana Luisa\n",
            "Hola Luis\n",
            "Hola Diana\n",
            "Hola Daira\n",
            "Hola Uriel\n",
            "Hola Ruth\n"
          ]
        }
      ],
      "source": [
        "for i in range(len(estudiantes)):\n",
        "    print(\"Hola\", estudiantes[i])"
      ]
    },
    {
      "cell_type": "code",
      "execution_count": 22,
      "metadata": {
        "colab": {
          "base_uri": "https://localhost:8080/"
        },
        "id": "RUhpAw6iCP_9",
        "outputId": "5bbfa523-e9b1-41ab-abaa-293d65632c63"
      },
      "outputs": [
        {
          "output_type": "stream",
          "name": "stdout",
          "text": [
            "15\n",
            "13\n",
            "11\n",
            "9\n",
            "7\n",
            "5\n",
            "3\n",
            "1\n",
            "-1\n"
          ]
        }
      ],
      "source": [
        "for j in range(15, -3, -2):\n",
        "    print(j)\n",
        "    if j == 0:\n",
        "        print(\"Booom\")"
      ]
    },
    {
      "cell_type": "markdown",
      "source": [
        "Cómo funciona range( ) y list(range())"
      ],
      "metadata": {
        "id": "quQz9llEHpg_"
      }
    },
    {
      "cell_type": "markdown",
      "source": [
        "La función range se detiene un valor antes. En este caso, en 6."
      ],
      "metadata": {
        "id": "coAwcnApIjXB"
      }
    },
    {
      "cell_type": "code",
      "source": [
        "range(0, 7)"
      ],
      "metadata": {
        "colab": {
          "base_uri": "https://localhost:8080/"
        },
        "id": "JztjE71UG9RP",
        "outputId": "b847af71-9687-4aff-9946-06473047021f"
      },
      "execution_count": 24,
      "outputs": [
        {
          "output_type": "execute_result",
          "data": {
            "text/plain": [
              "range(0, 7)"
            ]
          },
          "metadata": {},
          "execution_count": 24
        }
      ]
    },
    {
      "cell_type": "markdown",
      "source": [
        "Cuando usamos list((range)) se crea una lista que tiene como elementos los valores que considera la función range()"
      ],
      "metadata": {
        "id": "97LqtAOnH5tH"
      }
    },
    {
      "cell_type": "code",
      "source": [
        "list(range(3, 7))"
      ],
      "metadata": {
        "colab": {
          "base_uri": "https://localhost:8080/"
        },
        "id": "a53F0i-1HVnk",
        "outputId": "de5e290f-3222-450d-a526-2c984afd3385"
      },
      "execution_count": 26,
      "outputs": [
        {
          "output_type": "execute_result",
          "data": {
            "text/plain": [
              "[3, 4, 5, 6]"
            ]
          },
          "metadata": {},
          "execution_count": 26
        }
      ]
    },
    {
      "cell_type": "code",
      "source": [
        "list(range(5, -3, -2))"
      ],
      "metadata": {
        "colab": {
          "base_uri": "https://localhost:8080/"
        },
        "id": "__eUTyMbHh78",
        "outputId": "c4997473-f2d7-45da-cc6e-0d43ee012498"
      },
      "execution_count": 27,
      "outputs": [
        {
          "output_type": "execute_result",
          "data": {
            "text/plain": [
              "[5, 3, 1, -1]"
            ]
          },
          "metadata": {},
          "execution_count": 27
        }
      ]
    },
    {
      "cell_type": "code",
      "execution_count": 28,
      "metadata": {
        "colab": {
          "base_uri": "https://localhost:8080/"
        },
        "id": "xnpTAwlRCP_-",
        "outputId": "fc2737ed-3fea-4ad2-d1b2-4565e5dc473e"
      },
      "outputs": [
        {
          "output_type": "execute_result",
          "data": {
            "text/plain": [
              "range(0, 7897987978979779878979797987987979779797979)"
            ]
          },
          "metadata": {},
          "execution_count": 28
        }
      ],
      "source": [
        "range(7897987978979779878979797987987979779797979)"
      ]
    },
    {
      "cell_type": "markdown",
      "metadata": {
        "id": "BZZV6UwwCP_-"
      },
      "source": [
        "La suma de todos los números del 1 al 100.\n",
        "\n"
      ]
    },
    {
      "cell_type": "code",
      "execution_count": 29,
      "metadata": {
        "colab": {
          "base_uri": "https://localhost:8080/"
        },
        "id": "kCsrxfW_CP_-",
        "outputId": "de0a7a02-a9ef-42a5-c533-48e023428597"
      },
      "outputs": [
        {
          "output_type": "execute_result",
          "data": {
            "text/plain": [
              "5050"
            ]
          },
          "metadata": {},
          "execution_count": 29
        }
      ],
      "source": [
        "sum(range(101))"
      ]
    },
    {
      "cell_type": "markdown",
      "metadata": {
        "id": "K6SclKTSCP_-"
      },
      "source": [
        "### break, continue y else en ciclos for\n",
        "\n"
      ]
    },
    {
      "cell_type": "markdown",
      "metadata": {
        "id": "cTsb2RI1CP__"
      },
      "source": [
        "#### break\n",
        "\n"
      ]
    },
    {
      "cell_type": "markdown",
      "metadata": {
        "id": "JwwgsZ6kCP__"
      },
      "source": [
        "`break` sirve para interrumpir un ciclo for.\n",
        "\n"
      ]
    },
    {
      "cell_type": "code",
      "execution_count": 32,
      "metadata": {
        "colab": {
          "base_uri": "https://localhost:8080/"
        },
        "id": "5c8_scbGCP__",
        "outputId": "506d0355-23b9-46c9-91a4-c1ff43c15a9e"
      },
      "outputs": [
        {
          "output_type": "stream",
          "name": "stdout",
          "text": [
            "Hola Ivan ¿Cómo estás?\n",
            "Hola Ana Luisa ¿Cómo estás?\n",
            "Hola Luis ¿Cómo estás?\n",
            "Hola Diana ¿Cómo estás?\n",
            "Hola Daira ¿Cómo estás?\n",
            "Ya saludé a los inscritos\n"
          ]
        }
      ],
      "source": [
        "for estudiante in estudiantes:\n",
        "    print(\"Hola\", estudiante, \"¿Cómo estás?\")\n",
        "    if estudiante == \"Daira\":\n",
        "        break\n",
        "\n",
        "print(\"Ya saludé a los inscritos\")"
      ]
    },
    {
      "cell_type": "markdown",
      "metadata": {
        "id": "4hW19sHaCP__"
      },
      "source": [
        "#### else en un ciclo for\n",
        "\n"
      ]
    },
    {
      "cell_type": "markdown",
      "metadata": {
        "id": "Suqj_EddCQAA"
      },
      "source": [
        "La cláusula `else` en un ciclo `for` se ejecuta cuando el ciclo `for` termina de manera \"natural\", sin haber pasado por una cláusula `break`.\n",
        "\n"
      ]
    },
    {
      "cell_type": "code",
      "execution_count": 33,
      "metadata": {
        "colab": {
          "base_uri": "https://localhost:8080/"
        },
        "id": "o4QbiuSPCQAA",
        "outputId": "de34b313-d2b3-4c90-d80f-4ae104fa0b7e"
      },
      "outputs": [
        {
          "output_type": "stream",
          "name": "stdout",
          "text": [
            "2 es un número primo\n",
            "3 es un número primo\n",
            "4 es igual a 2 * 2\n",
            "5 es un número primo\n",
            "6 es igual a 2 * 3\n",
            "7 es un número primo\n",
            "8 es igual a 2 * 4\n",
            "9 es igual a 3 * 3\n"
          ]
        }
      ],
      "source": [
        "for n in range(2, 10):\n",
        "    for x in range(2, n):\n",
        "        if n % x == 0:\n",
        "            print(n, 'es igual a', x, '*', n//x)  # al usar // obtenemos la parte entera del numero\n",
        "            break  # break funciona para que si ya encontramos una factorizacion del numero, no busque mas\n",
        "    else:\n",
        "        # se terminó de checar posibles divisores sin encontrar uno\n",
        "        print(n, 'es un número primo')"
      ]
    },
    {
      "cell_type": "markdown",
      "metadata": {
        "id": "OXOuxYzmCQAB"
      },
      "source": [
        "#### continue\n",
        "\n"
      ]
    },
    {
      "cell_type": "markdown",
      "source": [
        "Similar a break pero permite que el ciclo for siga ejecutándose."
      ],
      "metadata": {
        "id": "0YlMEI6rLXpX"
      }
    },
    {
      "cell_type": "code",
      "execution_count": 37,
      "metadata": {
        "colab": {
          "base_uri": "https://localhost:8080/"
        },
        "id": "dy7PukL_CQAB",
        "outputId": "54419034-d374-4d83-f73f-67901fd8a059"
      },
      "outputs": [
        {
          "output_type": "stream",
          "name": "stdout",
          "text": [
            "Hola Ivan ¿Cómo estás?\n",
            "¿Qué materias estás llevando, Ivan ?\n",
            "Hola Ana Luisa ¿Cómo estás?\n",
            "¿Qué materias estás llevando, Ana Luisa ?\n",
            "Hola Luis ¿Cómo estás?\n",
            "¿Qué materias estás llevando, Luis ?\n",
            "Hola Diana ¿Cómo estás?\n",
            "¿Qué materias estás llevando, Diana ?\n",
            "Hola Daira ¿Cómo estás?\n",
            "¿Qué materias estás llevando, Daira ?\n",
            "Hola Uriel ¿Cómo estás?\n",
            "Hola Ruth ¿Cómo estás?\n"
          ]
        }
      ],
      "source": [
        "for estudiante in estudiantes:\n",
        "    print(\"Hola\", estudiante, \"¿Cómo estás?\")\n",
        "    if estudiante in [\"Uriel\", \"Ruth\"]:\n",
        "        continue\n",
        "    print(\"¿Qué materias estás llevando,\", estudiante,\"?\")"
      ]
    },
    {
      "cell_type": "markdown",
      "metadata": {
        "id": "rxPIrNEcCQAB"
      },
      "source": [
        "#### pass\n",
        "\n"
      ]
    },
    {
      "cell_type": "markdown",
      "metadata": {
        "id": "AQoKuug9CQAB"
      },
      "source": [
        "La claúsula `pass` no hace nada, pero puede servir para que un programa incompleto sea sintácticamente correcto.\n",
        "\n"
      ]
    },
    {
      "cell_type": "code",
      "execution_count": 40,
      "metadata": {
        "colab": {
          "base_uri": "https://localhost:8080/"
        },
        "id": "71IaFSKCCQAC",
        "outputId": "151c0b25-3230-4b05-8ada-e0854a375720"
      },
      "outputs": [
        {
          "output_type": "stream",
          "name": "stdout",
          "text": [
            "Hola Ivan ¿Cómo estás?\n",
            "Hola Ana Luisa ¿Cómo estás?\n",
            "Hola Luis ¿Cómo estás?\n",
            "Hola Diana ¿Cómo estás?\n",
            "Hola Daira ¿Cómo estás?\n",
            "Hola Uriel ¿Cómo estás?\n",
            "Hola Ruth ¿Cómo estás?\n"
          ]
        }
      ],
      "source": [
        "for estudiante in estudiantes:\n",
        "    print(\"Hola\", estudiante, \"¿Cómo estás?\")\n",
        "    if estudiante in [\"Uriel\", \"Ruth\"]:\n",
        "        pass"
      ]
    },
    {
      "cell_type": "code",
      "execution_count": 41,
      "metadata": {
        "colab": {
          "base_uri": "https://localhost:8080/"
        },
        "id": "HnF_Be73CQAC",
        "outputId": "c6d45122-de26-45f9-86a5-a559dfeb51e9"
      },
      "outputs": [
        {
          "output_type": "stream",
          "name": "stdout",
          "text": [
            "Hola Ivan ¿Cómo estás?\n",
            "Hola Ana Luisa ¿Cómo estás?\n",
            "Hola Luis ¿Cómo estás?\n",
            "Hola Diana ¿Cómo estás?\n",
            "Hola Daira ¿Cómo estás?\n",
            "Hola Uriel ¿Cómo estás?\n",
            "Hola Uriel ¿Eres oyente?\n",
            "Hola Ruth ¿Cómo estás?\n",
            "Hola Ruth ¿Eres oyente?\n"
          ]
        }
      ],
      "source": [
        "for estudiante in estudiantes:\n",
        "    print(\"Hola\", estudiante, \"¿Cómo estás?\")\n",
        "    if estudiante in [\"Uriel\", \"Ruth\"]:\n",
        "        print(\"Hola\", estudiante, \"¿Eres oyente?\")"
      ]
    }
  ],
  "metadata": {
    "kernelspec": {
      "display_name": "Python 3",
      "language": "python",
      "name": "python3"
    },
    "language_info": {
      "codemirror_mode": {
        "name": "ipython",
        "version": 3
      },
      "file_extension": ".py",
      "mimetype": "text/x-python",
      "name": "python",
      "nbconvert_exporter": "python",
      "pygments_lexer": "ipython3",
      "version": "3.9.2"
    },
    "org": null,
    "colab": {
      "provenance": []
    }
  },
  "nbformat": 4,
  "nbformat_minor": 0
}