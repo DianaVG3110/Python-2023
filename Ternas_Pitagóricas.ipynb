{
  "nbformat": 4,
  "nbformat_minor": 0,
  "metadata": {
    "colab": {
      "provenance": [],
      "authorship_tag": "ABX9TyPFcMw0R32UU4B5c7YBCm09",
      "include_colab_link": true
    },
    "kernelspec": {
      "name": "python3",
      "display_name": "Python 3"
    },
    "language_info": {
      "name": "python"
    }
  },
  "cells": [
    {
      "cell_type": "markdown",
      "metadata": {
        "id": "view-in-github",
        "colab_type": "text"
      },
      "source": [
        "<a href=\"https://colab.research.google.com/github/DianaVG3110/Python-2023/blob/main/Ternas_Pitag%C3%B3ricas.ipynb\" target=\"_parent\"><img src=\"https://colab.research.google.com/assets/colab-badge.svg\" alt=\"Open In Colab\"/></a>"
      ]
    },
    {
      "cell_type": "markdown",
      "source": [
        "**Ternas Pitagóricas**"
      ],
      "metadata": {
        "id": "6nG8FmL-XMba"
      }
    },
    {
      "cell_type": "markdown",
      "source": [
        "Las *ternas pitagóricas* son triadas de números naturales tales que cumplen con la condición siguiente: $a²+b²=c²$. Las ternas pitagóricas tienen una estrecha relación con el Teorema de Pitágoras, el cual afirma que en todo triángulo rectángulo, la suma de los cuadrados de los catetos es igual al cuadrado de la hipotenusa. De forma recíproca, las ternas pitagóricas se pueden asociar a las longitudes de los catetos y la hipotenusa para la construcción de un triángulo rectángulo.\n"
      ],
      "metadata": {
        "id": "sZoY6CLnXRWc"
      }
    },
    {
      "cell_type": "code",
      "execution_count": 15,
      "metadata": {
        "colab": {
          "base_uri": "https://localhost:8080/"
        },
        "id": "g6JDq7eES3o5",
        "outputId": "caa383b7-aae2-46ec-db08-7b9d0a67c9e6"
      },
      "outputs": [
        {
          "output_type": "execute_result",
          "data": {
            "text/plain": [
              "[(3, 4, 5),\n",
              " (5, 12, 13),\n",
              " (6, 8, 10),\n",
              " (7, 24, 25),\n",
              " (8, 15, 17),\n",
              " (9, 12, 15),\n",
              " (9, 40, 41),\n",
              " (10, 24, 26),\n",
              " (11, 60, 61),\n",
              " (12, 16, 20),\n",
              " (12, 35, 37),\n",
              " (13, 84, 85),\n",
              " (14, 48, 50),\n",
              " (15, 20, 25),\n",
              " (15, 36, 39),\n",
              " (16, 30, 34),\n",
              " (16, 63, 65),\n",
              " (18, 24, 30),\n",
              " (18, 80, 82),\n",
              " (20, 21, 29),\n",
              " (20, 48, 52),\n",
              " (21, 28, 35),\n",
              " (21, 72, 75),\n",
              " (24, 32, 40),\n",
              " (24, 45, 51),\n",
              " (24, 70, 74),\n",
              " (25, 60, 65),\n",
              " (27, 36, 45),\n",
              " (28, 45, 53),\n",
              " (30, 40, 50),\n",
              " (30, 72, 78),\n",
              " (32, 60, 68),\n",
              " (33, 44, 55),\n",
              " (33, 56, 65),\n",
              " (35, 84, 91),\n",
              " (36, 48, 60),\n",
              " (36, 77, 85),\n",
              " (39, 52, 65),\n",
              " (39, 80, 89),\n",
              " (40, 42, 58),\n",
              " (40, 75, 85),\n",
              " (42, 56, 70),\n",
              " (45, 60, 75),\n",
              " (48, 55, 73),\n",
              " (48, 64, 80),\n",
              " (51, 68, 85),\n",
              " (54, 72, 90),\n",
              " (57, 76, 95),\n",
              " (60, 63, 87),\n",
              " (65, 72, 97)]"
            ]
          },
          "metadata": {},
          "execution_count": 15
        }
      ],
      "source": [
        "ternas_pitagoricas = [(a,b,c) for a in range(1,100) for b in range(1,100) for c in range(1,100) if a**2+b**2==c**2 and a<b]\n",
        "ternas_pitagoricas"
      ]
    },
    {
      "cell_type": "markdown",
      "source": [
        "**Nota:** El programa no logró terminar de recorrer todos los números $a,b,c$ del 1 al 1000, pero se presenta con los números del 1 al 100."
      ],
      "metadata": {
        "id": "QI1FxwEiZe1a"
      }
    }
  ]
}