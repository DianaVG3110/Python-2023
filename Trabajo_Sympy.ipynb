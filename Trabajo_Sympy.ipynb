{
  "nbformat": 4,
  "nbformat_minor": 0,
  "metadata": {
    "colab": {
      "provenance": [],
      "authorship_tag": "ABX9TyMvjC/iBf4nTq8JShIDouhT",
      "include_colab_link": true
    },
    "kernelspec": {
      "name": "python3",
      "display_name": "Python 3"
    },
    "language_info": {
      "name": "python"
    }
  },
  "cells": [
    {
      "cell_type": "markdown",
      "metadata": {
        "id": "view-in-github",
        "colab_type": "text"
      },
      "source": [
        "<a href=\"https://colab.research.google.com/github/DianaVG3110/Python-2023/blob/main/Trabajo_Sympy.ipynb\" target=\"_parent\"><img src=\"https://colab.research.google.com/assets/colab-badge.svg\" alt=\"Open In Colab\"/></a>"
      ]
    },
    {
      "cell_type": "markdown",
      "source": [
        "**Problema 1: Ecuación de recta tangente** \\\\\n",
        "El siguiente programa crea una función para encontrar la ecuación de la recta tangente en un punto dado de una expresión algebráica."
      ],
      "metadata": {
        "id": "Kk7LdKirmNhT"
      }
    },
    {
      "cell_type": "code",
      "execution_count": 15,
      "metadata": {
        "id": "6CtBe3qsfSVb"
      },
      "outputs": [],
      "source": [
        "# Se importan las funciones necesarias de la libreria sympy\n",
        "from sympy import symbols, Eq, diff"
      ]
    },
    {
      "cell_type": "code",
      "source": [
        "# Se definen las variables\n",
        "x, y = symbols('x y')\n",
        "\n",
        "# Se crea la funcion deseada\n",
        "def recta_tangente(funcion, punto):\n",
        "    derivada = diff(funcion, x)\n",
        "    evaluacion_derivada = derivada.subs({x:punto})\n",
        "    evaluacion_funcion = funcion.subs({x:punto})\n",
        "    ecuacion_tangente = Eq(y - evaluacion_funcion, evaluacion_derivada*(x-punto))\n",
        "    return ecuacion_tangente"
      ],
      "metadata": {
        "id": "MOUIpgnTgChm"
      },
      "execution_count": 16,
      "outputs": []
    },
    {
      "cell_type": "code",
      "source": [
        "# Se utiliza la funcion\n",
        "recta_tangente(x**4,2)"
      ],
      "metadata": {
        "colab": {
          "base_uri": "https://localhost:8080/",
          "height": 38
        },
        "id": "_Qy4pfvCiXxv",
        "outputId": "6baa453d-c9ed-4c97-c476-86f1e7c3492d"
      },
      "execution_count": 17,
      "outputs": [
        {
          "output_type": "execute_result",
          "data": {
            "text/plain": [
              "Eq(y - 16, 32*x - 64)"
            ],
            "text/latex": "$\\displaystyle y - 16 = 32 x - 64$"
          },
          "metadata": {},
          "execution_count": 17
        }
      ]
    },
    {
      "cell_type": "markdown",
      "source": [
        "**Problema 2: Matrices enteras con valores propios enteros** \\\\\n",
        "El siguiente programa define una función para encontrar si en una lista todos los elementos son enteros. Posteriormente se usa dicha función para encontrar todas las matrices que tienen valores propios enteros."
      ],
      "metadata": {
        "id": "6koenIrXnejT"
      }
    },
    {
      "cell_type": "code",
      "source": [
        "# Se importa la fucion Matrix de la libreria sympy\n",
        "from sympy import Matrix"
      ],
      "metadata": {
        "id": "n8LxOjFFvc9x"
      },
      "execution_count": 45,
      "outputs": []
    },
    {
      "cell_type": "code",
      "source": [
        "# Se define la funcion para determinar si todos los elementos de una lista son enteros\n",
        "def es_entero(lista):\n",
        "    lista_flotante = []\n",
        "    for numero in range(len(lista)):\n",
        "        numero_flotante = float(lista[numero])\n",
        "        lista_flotante.append(numero_flotante)\n",
        "    buscando_enteros = [numero.is_integer() for numero in lista_flotante]\n",
        "    if all(buscando_enteros) == True:\n",
        "        return True\n",
        "    else:\n",
        "        return False"
      ],
      "metadata": {
        "id": "dohAYcIwoN2C"
      },
      "execution_count": 46,
      "outputs": []
    },
    {
      "cell_type": "code",
      "source": [
        "# Se hace una prueba de la funcion creada\n",
        "es_entero([1.1,2,3])"
      ],
      "metadata": {
        "colab": {
          "base_uri": "https://localhost:8080/"
        },
        "id": "eeC7JkYbpC99",
        "outputId": "d84decf8-2e06-4501-9a1e-0fab5adff260"
      },
      "execution_count": 47,
      "outputs": [
        {
          "output_type": "execute_result",
          "data": {
            "text/plain": [
              "False"
            ]
          },
          "metadata": {},
          "execution_count": 47
        }
      ]
    },
    {
      "cell_type": "code",
      "source": [
        "# Se imprimen todas las matrices que tienen valores propios enteros\n",
        "for n in range(100):\n",
        "    A = Matrix([[1, n], [1, 1]])\n",
        "    valores_propios = list(A.eigenvals())\n",
        "    if es_entero(valores_propios) == True:\n",
        "        print(A)"
      ],
      "metadata": {
        "colab": {
          "base_uri": "https://localhost:8080/"
        },
        "id": "INtUWsZvvjmX",
        "outputId": "d854e72c-a381-4099-8fee-c14a4df833f9"
      },
      "execution_count": 48,
      "outputs": [
        {
          "output_type": "stream",
          "name": "stdout",
          "text": [
            "Matrix([[1, 0], [1, 1]])\n",
            "Matrix([[1, 1], [1, 1]])\n",
            "Matrix([[1, 4], [1, 1]])\n",
            "Matrix([[1, 9], [1, 1]])\n",
            "Matrix([[1, 16], [1, 1]])\n",
            "Matrix([[1, 25], [1, 1]])\n",
            "Matrix([[1, 36], [1, 1]])\n",
            "Matrix([[1, 49], [1, 1]])\n",
            "Matrix([[1, 64], [1, 1]])\n",
            "Matrix([[1, 81], [1, 1]])\n"
          ]
        }
      ]
    }
  ]
}